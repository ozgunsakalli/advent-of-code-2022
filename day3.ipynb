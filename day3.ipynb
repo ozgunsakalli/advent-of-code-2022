{
 "cells": [
  {
   "cell_type": "code",
   "execution_count": 15,
   "metadata": {},
   "outputs": [],
   "source": [
    "with open('input-day3.txt', 'rt') as f:\n",
    "    rucksacks = f.readlines()"
   ]
  },
  {
   "cell_type": "code",
   "execution_count": 16,
   "metadata": {},
   "outputs": [
    {
     "data": {
      "text/plain": [
       "['hWvLLFWvHvczVcVn\\n',\n",
       " 'jgtngnnhMthcnLjMgCZvChDsmdNCvNNZDN\\n',\n",
       " 'bWqFPbFbLzRFfZBNDNNPZsNd\\n',\n",
       " 'RbJzGpzVLLLWHHQgTMwcTptQ\\n',\n",
       " 'sJBhsMWQnhhrFBsFhlQQMfrDCDpLlVCddjTdDDpqDLTLdj\\n',\n",
       " 'tZHHSRmNHcgmNzpDPJtttqjLqdpL\\n',\n",
       " 'HbNbZmcHQJbsFWvs\\n',\n",
       " 'VgPNWGbgSjGjfhRRFfzThtmtzF\\n',\n",
       " 'qLCQJBqqcPPmLHhHFz\\n',\n",
       " 'CcJvplQswNgZlNPSbS\\n']"
      ]
     },
     "execution_count": 16,
     "metadata": {},
     "output_type": "execute_result"
    }
   ],
   "source": [
    "# list of rucksack contents\n",
    "rucksacks[-10:]"
   ]
  },
  {
   "cell_type": "code",
   "execution_count": 17,
   "metadata": {},
   "outputs": [
    {
     "data": {
      "text/plain": [
       "['MVWpzTTrTFNNLtssjV',\n",
       " 'hRJncnJCnhPCnBSbCQRhhQRPFHmsbHLzbLNHsjNNFmGGGsGF',\n",
       " 'lSBQJBBBBcnccnQvBnPQznfrgwlrTZfDwTfWqrrpgMpw',\n",
       " 'sRPgrzSgrSbfTrgspBPsDWWTmdnvdZWZwTmwvdmd',\n",
       " 'tVGpCGqCGjlHcNGVNHZDmnZMWdWMWCdZDvnZ',\n",
       " 'HqpQptLlclLGtlpcjHNhQqfRhrSBrrbfbrSRrsPfBSgg',\n",
       " 'JpjLbQbFPBjDBBJLWltglfBfhhlcctht',\n",
       " 'vNFmsdFsnmzGtWvgzhzc',\n",
       " 'rqwRCCqmCTqHCnqRNTNFsJVMQSjLRbbVVbjQVLbLSV',\n",
       " 'mLNNCNDwBwDnmCwnJwLRvdlqZclRccsgvcZndc']"
      ]
     },
     "execution_count": 17,
     "metadata": {},
     "output_type": "execute_result"
    }
   ],
   "source": [
    "# strip newlines\n",
    "rucksacks = [i.rstrip() for i in rucksacks]\n",
    "rucksacks[:10]"
   ]
  },
  {
   "cell_type": "code",
   "execution_count": 43,
   "metadata": {},
   "outputs": [],
   "source": [
    "import string\n",
    "\n",
    "class Rucksack():\n",
    "    def __init__(self, items:str):\n",
    "        self.items = items\n",
    "    \n",
    "    def compartmentalize(self):\n",
    "        # items in compartments 1 and 2\n",
    "        self.c1, self.c2 = self.items[:len(self.items)//2], self.items[len(self.items)//2:]\n",
    "        assert len(self.c1) == len(self.c2)\n",
    "    \n",
    "    def find_common(self):\n",
    "        self.common_char = ''.join(set(self.c1).intersection(self.c2))\n",
    "        assert len(self.common_char) == 1\n",
    "    \n",
    "    def find_priority(self, char):\n",
    "        if char.isupper():\n",
    "            o = string.ascii_uppercase.index(char)\n",
    "            self.priority = o + 27\n",
    "        else:\n",
    "            o = string.ascii_lowercase.index(char)\n",
    "            self.priority = o + 1\n"
   ]
  },
  {
   "cell_type": "code",
   "execution_count": 44,
   "metadata": {},
   "outputs": [],
   "source": [
    "total = 0\n",
    "for sack in rucksacks:\n",
    "    r = Rucksack(sack)\n",
    "    r.compartmentalize()\n",
    "    r.find_common()\n",
    "    r.find_priority(r.common_char)\n",
    "    total += r.priority"
   ]
  },
  {
   "cell_type": "code",
   "execution_count": 45,
   "metadata": {},
   "outputs": [
    {
     "data": {
      "text/plain": [
       "7701"
      ]
     },
     "execution_count": 45,
     "metadata": {},
     "output_type": "execute_result"
    }
   ],
   "source": [
    "# part 1 answer\n",
    "total"
   ]
  },
  {
   "attachments": {},
   "cell_type": "markdown",
   "metadata": {},
   "source": [
    "Part 2"
   ]
  },
  {
   "cell_type": "code",
   "execution_count": 50,
   "metadata": {},
   "outputs": [],
   "source": [
    "import string\n",
    "\n",
    "class Group():\n",
    "    def __init__(self, sacks:list):\n",
    "        self.sacks = sacks\n",
    "    \n",
    "    def find_common(self):\n",
    "        self.common_item = ''.join(set.intersection(*map(set, self.sacks)))\n",
    "        assert len(self.common_item) == 1\n",
    "    \n",
    "    def find_priority(self, char):\n",
    "        if char.isupper():\n",
    "            o = string.ascii_uppercase.index(char)\n",
    "            self.priority = o + 27\n",
    "        else:\n",
    "            o = string.ascii_lowercase.index(char)\n",
    "            self.priority = o + 1\n"
   ]
  },
  {
   "cell_type": "code",
   "execution_count": 53,
   "metadata": {},
   "outputs": [],
   "source": [
    "total = 0\n",
    "for i in range(0, len(rucksacks), 3):\n",
    "    g = Group(rucksacks[i:i+3])\n",
    "    g.find_common()\n",
    "    g.find_priority(g.common_item)\n",
    "    total += g.priority"
   ]
  },
  {
   "cell_type": "code",
   "execution_count": 54,
   "metadata": {},
   "outputs": [
    {
     "data": {
      "text/plain": [
       "2644"
      ]
     },
     "execution_count": 54,
     "metadata": {},
     "output_type": "execute_result"
    }
   ],
   "source": [
    "# part 2 answer\n",
    "total"
   ]
  },
  {
   "cell_type": "code",
   "execution_count": null,
   "metadata": {},
   "outputs": [],
   "source": []
  }
 ],
 "metadata": {
  "kernelspec": {
   "display_name": "base",
   "language": "python",
   "name": "python3"
  },
  "language_info": {
   "codemirror_mode": {
    "name": "ipython",
    "version": 3
   },
   "file_extension": ".py",
   "mimetype": "text/x-python",
   "name": "python",
   "nbconvert_exporter": "python",
   "pygments_lexer": "ipython3",
   "version": "3.9.12"
  },
  "orig_nbformat": 4,
  "vscode": {
   "interpreter": {
    "hash": "43728df5bd19fa5dd48c8dc56a640e93a8d00314fde46947475e52926220a373"
   }
  }
 },
 "nbformat": 4,
 "nbformat_minor": 2
}
