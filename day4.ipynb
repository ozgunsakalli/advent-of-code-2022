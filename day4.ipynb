{
 "cells": [
  {
   "cell_type": "code",
   "execution_count": 3,
   "metadata": {},
   "outputs": [],
   "source": [
    "with open('input-day4.txt', 'rt') as f:\n",
    "    sections = f.read().splitlines()"
   ]
  },
  {
   "cell_type": "code",
   "execution_count": 4,
   "metadata": {},
   "outputs": [
    {
     "data": {
      "text/plain": [
       "['94-97,31-95',\n",
       " '7-8,11-95',\n",
       " '25-96,3-96',\n",
       " '6-17,5-16',\n",
       " '35-48,18-49',\n",
       " '5-6,5-98',\n",
       " '77-78,63-79',\n",
       " '56-56,28-56',\n",
       " '84-85,22-85',\n",
       " '35-62,34-74']"
      ]
     },
     "execution_count": 4,
     "metadata": {},
     "output_type": "execute_result"
    }
   ],
   "source": [
    "sections[:10]"
   ]
  },
  {
   "cell_type": "code",
   "execution_count": 41,
   "metadata": {},
   "outputs": [],
   "source": [
    "class Pair:\n",
    "    def __init__(self, assignments:str):\n",
    "        self.assignments = assignments\n",
    "    \n",
    "    def split_assignments(self):\n",
    "        e1,e2 = self.assignments.split(',')\n",
    "        self.e1 = self.numerize_assignment(e1)\n",
    "        self.e2 = self.numerize_assignment(e2)\n",
    "        return self.e1, self.e2\n",
    "    \n",
    "    def numerize_assignment(self, assignment:str):\n",
    "        ass_list = assignment.split('-')\n",
    "        return tuple([int(ch) for ch in ass_list])\n",
    "    \n",
    "    def find_overlap(self):\n",
    "        overlap = (max(self.e1[0], self.e2[0]), min(self.e1[1], self.e2[1]))\n",
    "        if overlap[0] <= overlap[1]:\n",
    "            self.overlap = overlap\n",
    "        else:\n",
    "            self.overlap = (0,0)\n",
    "        return self.overlap\n",
    "\n",
    "    def check_contains(self):\n",
    "        if self.e1[0] <= self.e2[0] and self.e1[1] >= self.e2[1]:\n",
    "            outcome = 1\n",
    "        elif self.e1[0] >= self.e2[0] and self.e1[1] <= self.e2[1]:\n",
    "            outcome = 1\n",
    "        else:\n",
    "            outcome = 0\n",
    "        return outcome\n",
    "\n",
    "    def check_overlap(self):\n",
    "        if self.overlap == (0, 0):\n",
    "            outcome = 0\n",
    "        else:\n",
    "            outcome = 1\n",
    "        return outcome\n",
    "            "
   ]
  },
  {
   "cell_type": "code",
   "execution_count": 42,
   "metadata": {},
   "outputs": [
    {
     "name": "stdout",
     "output_type": "stream",
     "text": [
      "((33, 91), (4, 89))\n",
      "(33, 89)\n",
      "0\n"
     ]
    }
   ],
   "source": [
    "p = Pair(sections[50])\n",
    "print(p.split_assignments())\n",
    "print(p.find_overlap())\n",
    "print(p.check_contains())"
   ]
  },
  {
   "cell_type": "code",
   "execution_count": 43,
   "metadata": {},
   "outputs": [],
   "source": [
    "count = 0\n",
    "for i in sections:\n",
    "    p = Pair(i)\n",
    "    p.split_assignments()\n",
    "    count += p.check_contains()"
   ]
  },
  {
   "cell_type": "code",
   "execution_count": 44,
   "metadata": {},
   "outputs": [
    {
     "data": {
      "text/plain": [
       "567"
      ]
     },
     "execution_count": 44,
     "metadata": {},
     "output_type": "execute_result"
    }
   ],
   "source": [
    "# part 1 answer\n",
    "count"
   ]
  },
  {
   "attachments": {},
   "cell_type": "markdown",
   "metadata": {},
   "source": [
    "Part 2"
   ]
  },
  {
   "cell_type": "code",
   "execution_count": 45,
   "metadata": {},
   "outputs": [],
   "source": [
    "count = 0\n",
    "for i in sections:\n",
    "    p = Pair(i)\n",
    "    p.split_assignments()\n",
    "    p.find_overlap()\n",
    "    count += p.check_overlap()"
   ]
  },
  {
   "cell_type": "code",
   "execution_count": 46,
   "metadata": {},
   "outputs": [
    {
     "data": {
      "text/plain": [
       "907"
      ]
     },
     "execution_count": 46,
     "metadata": {},
     "output_type": "execute_result"
    }
   ],
   "source": [
    "# part 2 answer\n",
    "count"
   ]
  },
  {
   "cell_type": "code",
   "execution_count": null,
   "metadata": {},
   "outputs": [],
   "source": []
  }
 ],
 "metadata": {
  "kernelspec": {
   "display_name": "base",
   "language": "python",
   "name": "python3"
  },
  "language_info": {
   "codemirror_mode": {
    "name": "ipython",
    "version": 3
   },
   "file_extension": ".py",
   "mimetype": "text/x-python",
   "name": "python",
   "nbconvert_exporter": "python",
   "pygments_lexer": "ipython3",
   "version": "3.9.12"
  },
  "orig_nbformat": 4,
  "vscode": {
   "interpreter": {
    "hash": "43728df5bd19fa5dd48c8dc56a640e93a8d00314fde46947475e52926220a373"
   }
  }
 },
 "nbformat": 4,
 "nbformat_minor": 2
}
