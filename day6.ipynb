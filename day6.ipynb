{
 "cells": [
  {
   "cell_type": "code",
   "execution_count": 6,
   "metadata": {},
   "outputs": [],
   "source": [
    "with open('input-day6.txt', 'rt') as f:\n",
    "    signal = f.read()"
   ]
  },
  {
   "cell_type": "code",
   "execution_count": 8,
   "metadata": {},
   "outputs": [
    {
     "name": "stdout",
     "output_type": "stream",
     "text": [
      "1850\n"
     ]
    }
   ],
   "source": [
    "# part 1\n",
    "\n",
    "for i, char in enumerate(signal):\n",
    "    \n",
    "    if i < 3:\n",
    "        continue\n",
    "\n",
    "    fourchars = set(signal[i-3:i+1])\n",
    "\n",
    "    if len(set(fourchars)) == 4:\n",
    "        print(i+1)\n",
    "        break"
   ]
  },
  {
   "cell_type": "code",
   "execution_count": 9,
   "metadata": {},
   "outputs": [
    {
     "name": "stdout",
     "output_type": "stream",
     "text": [
      "2823\n"
     ]
    }
   ],
   "source": [
    "# part 2\n",
    "\n",
    "for i, char in enumerate(signal):\n",
    "    \n",
    "    if i < 13:\n",
    "        continue\n",
    "\n",
    "    fourchars = set(signal[i-13:i+1])\n",
    "\n",
    "    if len(set(fourchars)) == 14:\n",
    "        print(i+1)\n",
    "        break"
   ]
  },
  {
   "cell_type": "code",
   "execution_count": null,
   "metadata": {},
   "outputs": [],
   "source": []
  }
 ],
 "metadata": {
  "kernelspec": {
   "display_name": "base",
   "language": "python",
   "name": "python3"
  },
  "language_info": {
   "codemirror_mode": {
    "name": "ipython",
    "version": 3
   },
   "file_extension": ".py",
   "mimetype": "text/x-python",
   "name": "python",
   "nbconvert_exporter": "python",
   "pygments_lexer": "ipython3",
   "version": "3.9.12"
  },
  "orig_nbformat": 4,
  "vscode": {
   "interpreter": {
    "hash": "43728df5bd19fa5dd48c8dc56a640e93a8d00314fde46947475e52926220a373"
   }
  }
 },
 "nbformat": 4,
 "nbformat_minor": 2
}
