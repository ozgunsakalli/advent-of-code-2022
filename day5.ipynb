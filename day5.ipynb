{
 "cells": [
  {
   "cell_type": "code",
   "execution_count": 154,
   "metadata": {},
   "outputs": [],
   "source": [
    "with open('input-day5.txt', 'rt') as f:\n",
    "    raw_data = f.read()"
   ]
  },
  {
   "cell_type": "code",
   "execution_count": 155,
   "metadata": {},
   "outputs": [],
   "source": [
    "stacks, procedure = raw_data.split('\\n\\n')"
   ]
  },
  {
   "cell_type": "code",
   "execution_count": 156,
   "metadata": {},
   "outputs": [
    {
     "data": {
      "text/plain": [
       "['[N]             [R]             [C]',\n",
       " '[T] [J]         [S] [J]         [N]',\n",
       " '[B] [Z]     [H] [M] [Z]         [D]',\n",
       " '[S] [P]     [G] [L] [H] [Z]     [T]',\n",
       " '[Q] [D]     [F] [D] [V] [L] [S] [M]',\n",
       " '[H] [F] [V] [J] [C] [W] [P] [W] [L]',\n",
       " '[G] [S] [H] [Z] [Z] [T] [F] [V] [H]',\n",
       " '[R] [H] [Z] [M] [T] [M] [T] [Q] [W]',\n",
       " ' 1   2   3   4   5   6   7   8   9 ']"
      ]
     },
     "execution_count": 156,
     "metadata": {},
     "output_type": "execute_result"
    }
   ],
   "source": [
    "stacks_list = stacks.splitlines()\n",
    "stacks_list"
   ]
  },
  {
   "cell_type": "code",
   "execution_count": 157,
   "metadata": {},
   "outputs": [
    {
     "data": {
      "text/plain": [
       "' 1   2   3   4   5   6   7   8   9 '"
      ]
     },
     "execution_count": 157,
     "metadata": {},
     "output_type": "execute_result"
    }
   ],
   "source": [
    "stack_nos = stacks_list.pop(-1)\n",
    "stack_nos"
   ]
  },
  {
   "cell_type": "code",
   "execution_count": 158,
   "metadata": {},
   "outputs": [
    {
     "data": {
      "text/plain": [
       "['[N]             [R]             [C]',\n",
       " '[T] [J]         [S] [J]         [N]',\n",
       " '[B] [Z]     [H] [M] [Z]         [D]',\n",
       " '[S] [P]     [G] [L] [H] [Z]     [T]',\n",
       " '[Q] [D]     [F] [D] [V] [L] [S] [M]',\n",
       " '[H] [F] [V] [J] [C] [W] [P] [W] [L]',\n",
       " '[G] [S] [H] [Z] [Z] [T] [F] [V] [H]',\n",
       " '[R] [H] [Z] [M] [T] [M] [T] [Q] [W]']"
      ]
     },
     "execution_count": 158,
     "metadata": {},
     "output_type": "execute_result"
    }
   ],
   "source": [
    "stacks_list"
   ]
  },
  {
   "cell_type": "code",
   "execution_count": 159,
   "metadata": {},
   "outputs": [
    {
     "data": {
      "text/plain": [
       "{1: ['R', 'G', 'H', 'Q', 'S', 'B', 'T', 'N'],\n",
       " 2: ['H', 'S', 'F', 'D', 'P', 'Z', 'J'],\n",
       " 3: ['Z', 'H', 'V'],\n",
       " 4: ['M', 'Z', 'J', 'F', 'G', 'H'],\n",
       " 5: ['T', 'Z', 'C', 'D', 'L', 'M', 'S', 'R'],\n",
       " 6: ['M', 'T', 'W', 'V', 'H', 'Z', 'J'],\n",
       " 7: ['T', 'F', 'P', 'L', 'Z'],\n",
       " 8: ['Q', 'V', 'W', 'S'],\n",
       " 9: ['W', 'H', 'L', 'M', 'T', 'D', 'N', 'C']}"
      ]
     },
     "execution_count": 159,
     "metadata": {},
     "output_type": "execute_result"
    }
   ],
   "source": [
    "stacks_dict = {n+1:[] for n in range(9)}\n",
    "\n",
    "for n in range(len(stacks_list)):\n",
    "    n = len(stacks_list) - 1 - n\n",
    "    for char in stack_nos:\n",
    "        if char == ' ':\n",
    "            pass\n",
    "        else:\n",
    "            no = int(char)\n",
    "            i = stack_nos.index(char)\n",
    "            crate = stacks_list[n][i]\n",
    "            if crate == ' ':\n",
    "                pass\n",
    "            else:\n",
    "                stacks_dict[no].append(crate)\n",
    "\n",
    "stacks_dict"
   ]
  },
  {
   "cell_type": "code",
   "execution_count": 160,
   "metadata": {},
   "outputs": [
    {
     "data": {
      "text/plain": [
       "['move 3 from 9 to 7',\n",
       " 'move 4 from 4 to 5',\n",
       " 'move 2 from 4 to 6',\n",
       " 'move 4 from 7 to 5',\n",
       " 'move 3 from 7 to 3']"
      ]
     },
     "execution_count": 160,
     "metadata": {},
     "output_type": "execute_result"
    }
   ],
   "source": [
    "procedure = procedure.splitlines()\n",
    "procedure[:5]"
   ]
  },
  {
   "cell_type": "code",
   "execution_count": 176,
   "metadata": {},
   "outputs": [],
   "source": [
    "import copy\n",
    "\n",
    "class Stacks:\n",
    "\n",
    "    def __init__(self, stacks:dict):\n",
    "        self.stacks = copy.deepcopy(stacks)\n",
    "    \n",
    "    def move_crate(self, from_stack:int, to_stack:int, how_many=1):\n",
    "        if how_many == 1:\n",
    "            crate = self.stacks[from_stack].pop()\n",
    "            self.stacks[to_stack].append(crate)\n",
    "        else:\n",
    "            crates = copy.deepcopy(self.stacks[from_stack][-how_many:])\n",
    "            self.stacks[to_stack].extend(crates)\n",
    "            del self.stacks[from_stack][-how_many:]\n",
    "            \n",
    "    def parse_step(self, step:str, crane=9000):\n",
    "        step_list = step.split(' ')\n",
    "        step_list = [int(item) for item in step_list if item.isdigit()]\n",
    "        times = step_list[0]\n",
    "        from_stack = step_list[1]\n",
    "        to_stack = step_list[2]\n",
    "        if crane == 9000:\n",
    "            for i in range(times):\n",
    "                self.move_crate(from_stack, to_stack)\n",
    "        elif crane == 9001:\n",
    "            self.move_crate(from_stack, to_stack, times)\n"
   ]
  },
  {
   "cell_type": "code",
   "execution_count": 162,
   "metadata": {},
   "outputs": [
    {
     "data": {
      "text/plain": [
       "{1: ['R', 'G', 'H', 'Q', 'S', 'B', 'T', 'N'],\n",
       " 2: ['H', 'S', 'F', 'D', 'P', 'Z', 'J'],\n",
       " 3: ['Z', 'H', 'V'],\n",
       " 4: ['M', 'Z', 'J', 'F', 'G', 'H'],\n",
       " 5: ['T', 'Z', 'C', 'D', 'L', 'M', 'S', 'R'],\n",
       " 6: ['M', 'T', 'W', 'V', 'H', 'Z', 'J'],\n",
       " 7: ['T', 'F', 'P', 'L', 'Z'],\n",
       " 8: ['Q', 'V', 'W', 'S'],\n",
       " 9: ['W', 'H', 'L', 'M', 'T', 'D', 'N', 'C']}"
      ]
     },
     "execution_count": 162,
     "metadata": {},
     "output_type": "execute_result"
    }
   ],
   "source": [
    "s = Stacks(stacks_dict)\n",
    "s.stacks"
   ]
  },
  {
   "cell_type": "code",
   "execution_count": 163,
   "metadata": {},
   "outputs": [
    {
     "data": {
      "text/plain": [
       "{1: ['R', 'G', 'H', 'Q', 'S', 'B', 'T', 'N'],\n",
       " 2: ['H', 'S', 'F', 'D', 'P', 'Z', 'J'],\n",
       " 3: ['Z', 'H', 'V'],\n",
       " 4: ['M', 'Z', 'J', 'F', 'G', 'H'],\n",
       " 5: ['T', 'Z', 'C', 'D', 'L', 'M', 'S', 'R'],\n",
       " 6: ['M', 'T', 'W', 'V', 'H', 'Z', 'J'],\n",
       " 7: ['T', 'F', 'P', 'L', 'Z', 'C', 'N', 'D'],\n",
       " 8: ['Q', 'V', 'W', 'S'],\n",
       " 9: ['W', 'H', 'L', 'M', 'T']}"
      ]
     },
     "execution_count": 163,
     "metadata": {},
     "output_type": "execute_result"
    }
   ],
   "source": [
    "s.parse_step(procedure[0])\n",
    "s.stacks"
   ]
  },
  {
   "cell_type": "code",
   "execution_count": 164,
   "metadata": {},
   "outputs": [],
   "source": [
    "s = Stacks(stacks_dict)\n",
    "\n",
    "for instruction in procedure:\n",
    "    s.parse_step(instruction)"
   ]
  },
  {
   "cell_type": "code",
   "execution_count": 165,
   "metadata": {},
   "outputs": [
    {
     "data": {
      "text/plain": [
       "'PTWLTDSJV'"
      ]
     },
     "execution_count": 165,
     "metadata": {},
     "output_type": "execute_result"
    }
   ],
   "source": [
    "# part 1 answer\n",
    "result = [stack[-1] for no, stack in s.stacks.items()]\n",
    "''.join(result)"
   ]
  },
  {
   "attachments": {},
   "cell_type": "markdown",
   "metadata": {},
   "source": [
    "Part 2"
   ]
  },
  {
   "cell_type": "code",
   "execution_count": 177,
   "metadata": {},
   "outputs": [],
   "source": [
    "s = Stacks(stacks_dict)\n",
    "\n",
    "for instruction in procedure:\n",
    "    s.parse_step(instruction, crane=9001)"
   ]
  },
  {
   "cell_type": "code",
   "execution_count": 178,
   "metadata": {},
   "outputs": [
    {
     "data": {
      "text/plain": [
       "'WZMFVGGZP'"
      ]
     },
     "execution_count": 178,
     "metadata": {},
     "output_type": "execute_result"
    }
   ],
   "source": [
    "# part 2 answer\n",
    "result = [stack[-1] for no, stack in s.stacks.items()]\n",
    "''.join(result)"
   ]
  },
  {
   "cell_type": "code",
   "execution_count": null,
   "metadata": {},
   "outputs": [],
   "source": []
  }
 ],
 "metadata": {
  "kernelspec": {
   "display_name": "base",
   "language": "python",
   "name": "python3"
  },
  "language_info": {
   "codemirror_mode": {
    "name": "ipython",
    "version": 3
   },
   "file_extension": ".py",
   "mimetype": "text/x-python",
   "name": "python",
   "nbconvert_exporter": "python",
   "pygments_lexer": "ipython3",
   "version": "3.9.12"
  },
  "orig_nbformat": 4,
  "vscode": {
   "interpreter": {
    "hash": "43728df5bd19fa5dd48c8dc56a640e93a8d00314fde46947475e52926220a373"
   }
  }
 },
 "nbformat": 4,
 "nbformat_minor": 2
}
